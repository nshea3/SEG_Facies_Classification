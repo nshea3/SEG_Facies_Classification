{
  "nbformat": 4,
  "nbformat_minor": 0,
  "metadata": {
    "colab": {
      "name": "SEG_Facies_Classification.ipynb",
      "provenance": [],
      "collapsed_sections": [],
      "include_colab_link": true
    },
    "kernelspec": {
      "name": "python3",
      "display_name": "Python 3"
    },
    "accelerator": "GPU"
  },
  "cells": [
    {
      "cell_type": "markdown",
      "metadata": {
        "id": "view-in-github",
        "colab_type": "text"
      },
      "source": [
        "<a href=\"https://colab.research.google.com/github/nshea3/SEG_Facies_Classification/blob/master/SEG_Facies_Classification.ipynb\" target=\"_parent\"><img src=\"https://colab.research.google.com/assets/colab-badge.svg\" alt=\"Open In Colab\"/></a>"
      ]
    },
    {
      "cell_type": "code",
      "metadata": {
        "id": "7Yl6Z7Ytsfgk",
        "colab_type": "code",
        "colab": {}
      },
      "source": [
        "import pandas as pd\n",
        "import matplotlib.pyplot as plt\n",
        "import numpy as np\n",
        "\n",
        "%matplotlib inline\n",
        "\n",
        "data = pd.read_csv('https://raw.githubusercontent.com/seg/2016-ml-contest/master/training_data.csv')\n"
      ],
      "execution_count": 0,
      "outputs": []
    },
    {
      "cell_type": "code",
      "metadata": {
        "id": "c9QpsHDtsrYl",
        "colab_type": "code",
        "colab": {}
      },
      "source": [
        "import seaborn as sns\n",
        "\n",
        "feature_names = [label for label in list(data.columns) if label not in ('Well Name','Facies','Formation', 'Depth')]\n",
        "\n",
        "plot_columns = [label for label in list(data.columns) if label not in ('Formation', 'Well Name','Facies', 'Depth', 'NM_M')]\n",
        "\n",
        "\n",
        "facies_names = ['SS', 'CSiS', 'FSiS', 'SiSh', 'MS', 'WS', 'D', 'PS', 'BS']\n",
        "facies_colors = ['#F4D03F', '#F5B041','#DC7633','#6E2C00', '#1B4F72','#2E86C1', '#AED6F1', '#A569BD', '#196F3D']"
      ],
      "execution_count": 0,
      "outputs": []
    },
    {
      "cell_type": "code",
      "metadata": {
        "id": "Ax22uIvcstbT",
        "colab_type": "code",
        "colab": {
          "base_uri": "https://localhost:8080/",
          "height": 72
        },
        "outputId": "b6e4efef-1c03-459b-959b-7e2c11d0cef3"
      },
      "source": [
        "from sklearn import preprocessing\n",
        "\n",
        "X = data[feature_names].values\n",
        "y = data['Facies'].values\n",
        "\n",
        "imp = preprocessing.Imputer(missing_values='NaN', strategy='mean', axis=0)\n",
        "imp.fit(X)\n",
        "X = imp.transform(X)\n",
        "\n",
        "well = data['Well Name'].values\n",
        "depth = data['Depth'].values"
      ],
      "execution_count": 3,
      "outputs": [
        {
          "output_type": "stream",
          "text": [
            "/usr/local/lib/python3.6/dist-packages/sklearn/utils/deprecation.py:66: DeprecationWarning: Class Imputer is deprecated; Imputer was deprecated in version 0.20 and will be removed in 0.22. Import impute.SimpleImputer from sklearn instead.\n",
            "  warnings.warn(msg, category=DeprecationWarning)\n"
          ],
          "name": "stderr"
        }
      ]
    },
    {
      "cell_type": "code",
      "metadata": {
        "id": "2PJXjTrDsxa3",
        "colab_type": "code",
        "colab": {}
      },
      "source": [
        "# Feature windows concatenation function\n",
        "def augment_features_window(X, N_neig):\n",
        "    \n",
        "    # Parameters\n",
        "    N_row = X.shape[0]\n",
        "    N_feat = X.shape[1]\n",
        "\n",
        "    # Zero padding\n",
        "    X = np.vstack((np.zeros((N_neig, N_feat)), X, (np.zeros((N_neig, N_feat)))))\n",
        "\n",
        "    # Loop over windows\n",
        "    X_aug = np.zeros((N_row, N_feat*(2*N_neig+1)))\n",
        "    for r in np.arange(N_row)+N_neig:\n",
        "        this_row = []\n",
        "        for c in np.arange(-N_neig,N_neig+1):\n",
        "            this_row = np.hstack((this_row, X[r+c]))\n",
        "        X_aug[r-N_neig] = this_row\n",
        "\n",
        "    return X_aug\n",
        "\n",
        "\n",
        "# Feature gradient computation function\n",
        "def augment_features_gradient(X, depth):\n",
        "    \n",
        "    # Compute features gradient\n",
        "    d_diff = np.diff(depth).reshape((-1, 1))\n",
        "    d_diff[d_diff==0] = 0.001\n",
        "    X_diff = np.diff(X, axis=0)\n",
        "    X_grad = X_diff / d_diff\n",
        "        \n",
        "    # Compensate for last missing value\n",
        "    X_grad = np.concatenate((X_grad, np.zeros((1, X_grad.shape[1]))))\n",
        "    \n",
        "    return X_grad\n",
        "\n",
        "\n",
        "# Feature augmentation function\n",
        "def augment_features(X, well, depth, N_neig=1):\n",
        "    \n",
        "    # Augment features\n",
        "    X_aug = np.zeros((X.shape[0], X.shape[1]*(N_neig*2+2)))\n",
        "    for w in np.unique(well):\n",
        "        w_idx = np.where(well == w)[0]\n",
        "        X_aug_win = augment_features_window(X[w_idx, :], N_neig)\n",
        "        X_aug_grad = augment_features_gradient(X[w_idx, :], depth[w_idx])\n",
        "        X_aug[w_idx, :] = np.concatenate((X_aug_win, X_aug_grad), axis=1)\n",
        "    \n",
        "    # Find padded rows\n",
        "    padded_rows = np.unique(np.where(X_aug[:, 0:7] == np.zeros((1, 7)))[0])\n",
        "    \n",
        "    return X_aug, padded_rows\n",
        "\n",
        "\n",
        "\n",
        "X_aug, padded_rows = augment_features(X, well, depth)"
      ],
      "execution_count": 0,
      "outputs": []
    },
    {
      "cell_type": "code",
      "metadata": {
        "id": "dbUKAaW4sz6v",
        "colab_type": "code",
        "colab": {}
      },
      "source": [
        "from sklearn.model_selection import LeavePGroupsOut\n",
        "\n",
        "# Initialize model selection methods\n",
        "lpgo = LeavePGroupsOut(2)\n",
        "\n",
        "# Generate splits\n",
        "split_list = []\n",
        "for train, val in lpgo.split(X, y, groups=data['Well Name']):\n",
        "    hist_tr = np.histogram(y[train], bins=np.arange(len(facies_names)+1)+.5)\n",
        "    hist_val = np.histogram(y[val], bins=np.arange(len(facies_names)+1)+.5)\n",
        "    if np.all(hist_tr[0] != 0) & np.all(hist_val[0] != 0):\n",
        "        split_list.append({'train':train, 'val':val})\n",
        "\n",
        "\n",
        "\n",
        "        \n",
        "def preprocess():\n",
        "    \n",
        "    # Preprocess data to use in model\n",
        "    X_train_aux = []\n",
        "    X_test_aux = []\n",
        "    y_train_aux = []\n",
        "    y_test_aux = []\n",
        "    \n",
        "    # For each data split\n",
        "    split = split_list[5]\n",
        "        \n",
        "    # Remove padded rows\n",
        "    split_train_no_pad = np.setdiff1d(split['train'], padded_rows)\n",
        "\n",
        "    # Select training and validation data from current split\n",
        "    X_tr = X_aug[split_train_no_pad, :]\n",
        "    X_v = X_aug[split['val'], :]\n",
        "    y_tr = y[split_train_no_pad]\n",
        "    y_v = y[split['val']]\n",
        "\n",
        "    # Select well labels for validation data\n",
        "    well_v = well[split['val']]\n",
        "\n",
        "    # Feature normalization\n",
        "    scaler = preprocessing.RobustScaler(quantile_range=(25.0, 75.0)).fit(X_tr)\n",
        "    X_tr = scaler.transform(X_tr)\n",
        "    X_v = scaler.transform(X_v)\n",
        "        \n",
        "    X_train_aux.append( X_tr )\n",
        "    X_test_aux.append( X_v )\n",
        "    y_train_aux.append( y_tr )\n",
        "    y_test_aux.append (  y_v )\n",
        "    \n",
        "    X_train = np.concatenate( X_train_aux )\n",
        "    X_test = np.concatenate ( X_test_aux )\n",
        "    y_train = np.concatenate ( y_train_aux )\n",
        "    y_test = np.concatenate ( y_test_aux )\n",
        "    \n",
        "    return X_train , X_test , y_train , y_test\n",
        "\n",
        "X_train, X_test, y_train, y_test = preprocess()"
      ],
      "execution_count": 0,
      "outputs": []
    },
    {
      "cell_type": "code",
      "metadata": {
        "id": "qbs7bPYEs_v6",
        "colab_type": "code",
        "colab": {
          "base_uri": "https://localhost:8080/",
          "height": 72
        },
        "outputId": "33583220-e4b1-4e88-a26f-f2a1274b68e1"
      },
      "source": [
        "imp = preprocessing.Imputer(missing_values='NaN', strategy='mean', axis=0)\n",
        "imp.fit(X)\n",
        "X = imp.transform(X)"
      ],
      "execution_count": 6,
      "outputs": [
        {
          "output_type": "stream",
          "text": [
            "/usr/local/lib/python3.6/dist-packages/sklearn/utils/deprecation.py:66: DeprecationWarning: Class Imputer is deprecated; Imputer was deprecated in version 0.20 and will be removed in 0.22. Import impute.SimpleImputer from sklearn instead.\n",
            "  warnings.warn(msg, category=DeprecationWarning)\n"
          ],
          "name": "stderr"
        }
      ]
    },
    {
      "cell_type": "code",
      "metadata": {
        "id": "JSi9gc6MtCTX",
        "colab_type": "code",
        "colab": {}
      },
      "source": [
        "from sklearn.model_selection import train_test_split\n",
        "\n",
        "X_train, X_test, y_train, y_test = train_test_split(X_aug, y, test_size=0.1, random_state=1)"
      ],
      "execution_count": 0,
      "outputs": []
    },
    {
      "cell_type": "code",
      "metadata": {
        "id": "l8EGh1wLtFp1",
        "colab_type": "code",
        "colab": {}
      },
      "source": [
        "blind_data = pd.read_csv('https://raw.githubusercontent.com/seg/2016-ml-contest/master/validation_data_nofacies.csv')"
      ],
      "execution_count": 0,
      "outputs": []
    },
    {
      "cell_type": "code",
      "metadata": {
        "id": "R2eZebobtRpM",
        "colab_type": "code",
        "colab": {
          "base_uri": "https://localhost:8080/",
          "height": 525
        },
        "outputId": "fa7dbae2-869a-49f3-e6a4-8fab3970d1dd"
      },
      "source": [
        "\"\"\"\n",
        "This is the ExtraTreesClassifier\n",
        "\n",
        "\"\"\"\n",
        "from sklearn.ensemble import ExtraTreesClassifier\n",
        "from sklearn.tree import DecisionTreeClassifier\n",
        "from sklearn import model_selection\n",
        "from sklearn.model_selection import learning_curve\n",
        "\n",
        "from joblib import Memory\n",
        "location = './cachedir'\n",
        "memory = Memory(location, verbose=0)\n",
        "\n",
        "train_sizes = list(range(295,2065,295))\n",
        "\n",
        "def tv_scores_mean(estimator, X, y, train_sizes, scoring='accuracy', shuffle=True, cv=5):\n",
        "    train_sizes, train_scores, validation_scores = learning_curve(estimator = estimator, X=X, y=y, \n",
        "                                                                  train_sizes=train_sizes, scoring=scoring, \n",
        "                                                                  shuffle=shuffle, cv=cv)\n",
        "    train_scores_mean = train_scores.mean(axis = 1)\n",
        "    validation_scores_mean = validation_scores.mean(axis = 1)\n",
        "    return train_sizes, train_scores_mean, validation_scores_mean\n",
        "\n",
        "def plot_learning_curve(train_sizes, train_scores_mean, validation_scores_mean):\n",
        "    plt.plot(train_sizes, train_scores_mean, label = 'Training accuracy')\n",
        "    plt.plot(train_sizes, validation_scores_mean, label = 'Validation accuracy')\n",
        "    plt.ylabel('Accuracy', fontsize = 14)\n",
        "    plt.xlabel('Training set size', fontsize = 14)\n",
        "    plt.title('Learning curves', fontsize = 18, y = 1.03)\n",
        "    plt.legend()\n",
        "    plt.ylim(0,1.1)\n",
        "\n",
        "def randomizedsearch_helper(grid, estimator, X, y):\n",
        "    gridsearch = model_selection.RandomizedSearchCV(estimator = estimator, param_distributions=grid)\n",
        "    gridsearch.fit(X,y)\n",
        "    return (gridsearch.best_estimator_, gridsearch.best_score_, gridsearch.best_params_)\n",
        "\n",
        "def model_helper(grid, classifier, X, y, randomsearch = True):\n",
        "    if randomsearch:\n",
        "        est, acc, param = randomizedsearch_helper(grid, classifier, X, y)\n",
        "    else:\n",
        "        est, acc, param = gridsearch_helper(grid, classifier, X, y)\n",
        "    est.fit(X_train,y_train)\n",
        "    print(acc)\n",
        "    print(est)\n",
        "    return (est, acc, param)\n",
        "\n",
        "cart_grid = {'max_depth' : range(3,10)}\n",
        "result = model_helper(cart_grid, DecisionTreeClassifier(random_state=1), X_train, y_train)\n",
        "cart_est = result[0]\n",
        "\n",
        "plot_learning_curve(*tv_scores_mean(cart_est,X_train,y_train,train_sizes))"
      ],
      "execution_count": 9,
      "outputs": [
        {
          "output_type": "stream",
          "text": [
            "/usr/local/lib/python3.6/dist-packages/sklearn/model_selection/_split.py:1978: FutureWarning: The default value of cv will change from 3 to 5 in version 0.22. Specify it explicitly to silence this warning.\n",
            "  warnings.warn(CV_WARNING, FutureWarning)\n",
            "/usr/local/lib/python3.6/dist-packages/sklearn/model_selection/_search.py:266: UserWarning: The total space of parameters 7 is smaller than n_iter=10. Running 7 iterations. For exhaustive searches, use GridSearchCV.\n",
            "  % (grid_size, self.n_iter, grid_size), UserWarning)\n"
          ],
          "name": "stderr"
        },
        {
          "output_type": "stream",
          "text": [
            "0.6516506189821183\n",
            "DecisionTreeClassifier(class_weight=None, criterion='gini', max_depth=9,\n",
            "                       max_features=None, max_leaf_nodes=None,\n",
            "                       min_impurity_decrease=0.0, min_impurity_split=None,\n",
            "                       min_samples_leaf=1, min_samples_split=2,\n",
            "                       min_weight_fraction_leaf=0.0, presort=False,\n",
            "                       random_state=1, splitter='best')\n"
          ],
          "name": "stdout"
        },
        {
          "output_type": "display_data",
          "data": {
            "image/png": "[encoded data removed]",
            "text/plain": [
              "<Figure size 432x288 with 1 Axes>"
            ]
          },
          "metadata": {
            "tags": []
          }
        }
      ]
    },
    {
      "cell_type": "code",
      "metadata": {
        "id": "HuFSUjjmtVvP",
        "colab_type": "code",
        "colab": {}
      },
      "source": [
        "from sklearn.ensemble import GradientBoostingClassifier\n",
        "\n",
        "\n",
        "rfc_grid = {'n_estimators' : range(100,300,50), 'min_samples_leaf': [6], \n",
        "            'min_samples_split':range(2,10,2), 'learning_rate':[0.03, 0.04, 0.05], \n",
        "            'subsample':[0.4, 0.6], 'max_depth':range(2,4,1)}\n",
        "\n",
        "\n",
        "#Try n_estimators higher after this one \n",
        "\n",
        "def train_gbc(X_train, y_train, rfc_grid):\n",
        "    result = model_helper(rfc_grid, GradientBoostingClassifier(random_state=1), X_train, y_train)\n",
        "    gbc_est = result[0]\n",
        "    plot_learning_curve(*tv_scores_mean(gbc_est,X_train,y_train,train_sizes))\n",
        "    return gbc_est\n",
        "\n",
        "\n",
        "#gbc_est = train_gbc(X_train, y_train, rfc_grid)"
      ],
      "execution_count": 0,
      "outputs": []
    },
    {
      "cell_type": "code",
      "metadata": {
        "id": "xh1I801htY9N",
        "colab_type": "code",
        "colab": {}
      },
      "source": [
        "import xgboost as xgb\n",
        "from xgboost.sklearn import  XGBClassifier\n",
        "\n",
        "\n",
        "\n",
        "def train_and_test(X_tr, y_tr, X_v, well_v, clf):\n",
        "    \n",
        "    # Feature normalization\n",
        "    scaler = preprocessing.RobustScaler(quantile_range=(25.0, 75.0)).fit(X_tr)\n",
        "    X_tr = scaler.transform(X_tr)\n",
        "    X_v = scaler.transform(X_v)\n",
        "    \n",
        "    clf.fit(X_tr, y_tr)\n",
        "    \n",
        "    # Test classifier\n",
        "    y_v_hat = clf.predict(X_v)\n",
        "    \n",
        "    # Clean isolated facies for each well\n",
        "    for w in np.unique(well_v):\n",
        "        y_v_hat[well_v==w] = medfilt(y_v_hat[well_v==w], kernel_size=5)\n",
        "    \n",
        "    return y_v_hat"
      ],
      "execution_count": 0,
      "outputs": []
    },
    {
      "cell_type": "code",
      "metadata": {
        "id": "6WePkf_KtqrQ",
        "colab_type": "code",
        "colab": {
          "base_uri": "https://localhost:8080/",
          "height": 52
        },
        "outputId": "cd107c4d-01c6-4c5e-907e-7ea36bb8d811"
      },
      "source": [
        "#Load testing data\n",
        "\n",
        "from sklearn.pipeline import make_pipeline, make_union\n",
        "from scipy.signal import medfilt\n",
        "\n",
        "\n",
        "test_data = pd.read_csv('https://raw.githubusercontent.com/seg/2016-ml-contest/master/validation_data_nofacies.csv')\n",
        "\n",
        "from sklearn.model_selection import train_test_split\n",
        "\n",
        "well_ts = test_data['Well Name'].values\n",
        "depth_ts = test_data['Depth'].values\n",
        "X_ts = test_data[feature_names].values\n",
        "\n",
        "\n",
        "    \n",
        "y_pred = []\n",
        "print('.' * 100)\n",
        "for seed in range(100):\n",
        "    np.random.seed(seed)\n",
        "\n",
        "    # Make training data.\n",
        "    X_train, padded_rows = augment_features(X, well, depth)\n",
        "    y_train = y\n",
        "    X_train = np.delete(X_train, padded_rows, axis=0)\n",
        "    y_train = np.delete(y_train, padded_rows, axis=0) \n",
        "\n",
        "    # Train classifier  \n",
        "    clf = make_pipeline ( XGBClassifier(learning_rate=0.15, max_depth=8, min_child_weight=4, \n",
        "                                        n_estimators=148, seed=seed, colsample_bytree = 0.85, \n",
        "                                        subsample = 0.9 , gamma = 0.75) )\n",
        "\n",
        "    # Make blind data.\n",
        "    X_test, _ = augment_features(X_ts, well_ts, depth_ts)\n",
        "\n",
        "    # Train and test.\n",
        "    y_ts_hat = train_and_test(X_train, y_train, X_test, well_ts, clf)\n",
        "    \n",
        "    # Collect result.\n",
        "    y_pred.append(y_ts_hat)\n",
        "    print('|', end='')\n",
        "    \n",
        "np.save('LA_Team_100_realizations.npy', y_pred)"
      ],
      "execution_count": 12,
      "outputs": [
        {
          "output_type": "stream",
          "text": [
            "....................................................................................................\n",
            "||||||||||||||||||||||||||||||||||||||||||||||||||||||||||||||||||||||||||||||||||||||||||||||||||||"
          ],
          "name": "stdout"
        }
      ]
    },
    {
      "cell_type": "code",
      "metadata": {
        "id": "A-S_ZDyfyHwL",
        "colab_type": "code",
        "colab": {
          "base_uri": "https://localhost:8080/",
          "height": 1000
        },
        "outputId": "683e96b6-ac9f-44cf-c472-cd17c028e522"
      },
      "source": [
        "hist,bins = np.histogram(y_pred)\n",
        "plt.hist(y_pred, bins)"
      ],
      "execution_count": 13,
      "outputs": [
        {
          "output_type": "execute_result",
          "data": {
            "text/plain": [
              "([array([  0., 178.,  88.,  76.,   0.,  60., 139.,  83., 194.,  12.]),\n",
              "  array([  0., 183.,  85.,  68.,   0.,  63., 125.,  81., 214.,  11.]),\n",
              "  array([  4., 178.,  85.,  70.,   0.,  55., 135.,  87., 207.,   9.]),\n",
              "  array([  1., 183.,  83.,  72.,   0.,  51., 129.,  91., 209.,  11.]),\n",
              "  array([  1., 175.,  92.,  79.,   0.,  55., 128.,  84., 210.,   6.]),\n",
              "  array([  7., 176.,  84.,  73.,   0.,  48., 126.,  87., 220.,   9.]),\n",
              "  array([  4., 173.,  89.,  72.,   0.,  61., 136.,  84., 199.,  12.]),\n",
              "  array([  7., 171.,  89.,  70.,   0.,  63., 131.,  82., 206.,  11.]),\n",
              "  array([  1., 184.,  83.,  75.,   0.,  55., 139.,  82., 200.,  11.]),\n",
              "  array([  5., 180.,  81.,  79.,   0.,  58., 138.,  88., 190.,  11.]),\n",
              "  array([  6., 179.,  82.,  70.,   0.,  58., 131.,  85., 209.,  10.]),\n",
              "  array([  6., 180.,  80.,  76.,   0.,  65., 133.,  83., 192.,  15.]),\n",
              "  array([  1., 175.,  91.,  72.,   0.,  52., 142.,  82., 204.,  11.]),\n",
              "  array([  1., 182.,  83.,  69.,   0.,  57., 142.,  88., 199.,   9.]),\n",
              "  array([  5., 175.,  86.,  70.,   0.,  60., 134.,  85., 208.,   7.]),\n",
              "  array([  1., 183.,  83.,  71.,   0.,  64., 127.,  87., 199.,  15.]),\n",
              "  array([  5., 181.,  81.,  74.,   0.,  60., 140.,  83., 197.,   9.]),\n",
              "  array([  1., 174.,  92.,  71.,   0.,  56., 125.,  85., 218.,   8.]),\n",
              "  array([  1., 180.,  85.,  71.,   0.,  61., 140.,  87., 191.,  14.]),\n",
              "  array([  1., 186.,  81.,  75.,   0.,  68., 120.,  87., 205.,   7.]),\n",
              "  array([  7., 175.,  85.,  76.,   0.,  57., 131.,  83., 205.,  11.]),\n",
              "  array([  4., 178.,  87.,  74.,   0.,  60., 127.,  87., 207.,   6.]),\n",
              "  array([  1., 178.,  89.,  74.,   0.,  57., 120.,  82., 216.,  13.]),\n",
              "  array([  0., 182.,  85.,  71.,   0.,  62., 132.,  83., 202.,  13.]),\n",
              "  array([  0., 184.,  81.,  68.,   0.,  65., 130.,  90., 198.,  14.]),\n",
              "  array([  0., 181.,  84.,  70.,   0.,  59., 122.,  87., 214.,  13.]),\n",
              "  array([  0., 190.,  76.,  71.,   0.,  62., 127.,  85., 209.,  10.]),\n",
              "  array([  0., 183.,  84.,  76.,   0.,  57., 134.,  84., 201.,  11.]),\n",
              "  array([  0., 184.,  82.,  72.,   0.,  59., 130.,  90., 201.,  12.]),\n",
              "  array([  0., 181.,  87.,  68.,   0.,  61., 128.,  84., 206.,  15.]),\n",
              "  array([  1., 179.,  87.,  74.,   0.,  51., 133.,  86., 212.,   7.]),\n",
              "  array([  0., 180.,  87.,  73.,   0.,  59., 132.,  84., 208.,   7.]),\n",
              "  array([  0., 183.,  84.,  71.,   0.,  64., 124.,  84., 214.,   6.]),\n",
              "  array([  0., 186.,  82.,  70.,   0.,  51., 135., 100., 196.,  10.]),\n",
              "  array([  0., 178.,  88.,  73.,   0.,  61., 134.,  86., 194.,  16.]),\n",
              "  array([  1., 186.,  81.,  70.,   0.,  62., 127.,  83., 210.,  10.]),\n",
              "  array([  0., 179.,  88.,  71.,   0.,  64., 127.,  82., 209.,  10.]),\n",
              "  array([  0., 181.,  86.,  69.,   0.,  57., 134.,  83., 209.,  11.]),\n",
              "  array([  4., 178.,  84.,  68.,   0.,  61., 134.,  84., 207.,  10.]),\n",
              "  array([  3., 181.,  83.,  73.,   0.,  56., 127.,  86., 210.,  11.]),\n",
              "  array([  1., 177.,  88.,  65.,   0.,  55., 132.,  90., 214.,   8.]),\n",
              "  array([  7., 166.,  94.,  78.,   0.,  48., 137.,  86., 205.,   9.]),\n",
              "  array([  0., 181.,  86.,  71.,   0.,  56., 141.,  84., 200.,  11.]),\n",
              "  array([  0., 176.,  91.,  68.,   0.,  61., 131.,  89., 204.,  10.]),\n",
              "  array([  7., 169.,  91.,  64.,   0.,  62., 124.,  94., 212.,   7.]),\n",
              "  array([  1., 180.,  86.,  72.,   0.,  58., 131.,  87., 205.,  10.]),\n",
              "  array([  3., 176.,  89.,  67.,   0.,  64., 124.,  84., 217.,   6.]),\n",
              "  array([ 10., 168.,  96.,  74.,   0.,  59., 130.,  80., 205.,   8.]),\n",
              "  array([  0., 181.,  87.,  71.,   0.,  56., 135.,  90., 195.,  15.]),\n",
              "  array([  0., 179.,  88.,  71.,   0.,  54., 138.,  85., 205.,  10.]),\n",
              "  array([  0., 181.,  86.,  76.,   0.,  53., 133.,  88., 205.,   8.]),\n",
              "  array([  1., 177.,  89.,  75.,   0.,  51., 138.,  86., 200.,  13.]),\n",
              "  array([  7., 177.,  82.,  70.,   0.,  55., 137.,  84., 208.,  10.]),\n",
              "  array([  0., 189.,  79.,  69.,   0.,  64., 134.,  87., 195.,  13.]),\n",
              "  array([  0., 178.,  90.,  71.,   0.,  58., 136.,  85., 202.,  10.]),\n",
              "  array([  0., 183.,  85.,  75.,   0.,  49., 137.,  84., 211.,   6.]),\n",
              "  array([  0., 181.,  86.,  73.,   0.,  58., 135.,  84., 206.,   7.]),\n",
              "  array([  4., 184.,  80.,  74.,   0.,  54., 128.,  86., 210.,  10.]),\n",
              "  array([  5., 177.,  87.,  70.,   0.,  64., 130.,  83., 204.,  10.]),\n",
              "  array([  1., 179.,  87.,  71.,   0.,  60., 133.,  84., 202.,  13.]),\n",
              "  array([  0., 180.,  86.,  73.,   0.,  65., 129.,  85., 202.,  10.]),\n",
              "  array([  7., 176.,  84.,  81.,   0.,  48., 136.,  86., 203.,   9.]),\n",
              "  array([  1., 184.,  83.,  67.,   0.,  65., 126.,  84., 208.,  12.]),\n",
              "  array([  0., 181.,  86.,  72.,   0.,  59., 127.,  82., 216.,   7.]),\n",
              "  array([  3., 175.,  89.,  72.,   0.,  65., 136.,  84., 193.,  13.]),\n",
              "  array([  0., 180.,  87.,  70.,   0.,  55., 137.,  85., 205.,  11.]),\n",
              "  array([  0., 187.,  79.,  76.,   0.,  51., 129.,  91., 204.,  13.]),\n",
              "  array([  0., 177.,  90.,  71.,   0.,  59., 130.,  83., 212.,   8.]),\n",
              "  array([  0., 184.,  84.,  67.,   0.,  60., 129.,  88., 208.,  10.]),\n",
              "  array([  1., 188.,  79.,  67.,   0.,  67., 132.,  87., 203.,   6.]),\n",
              "  array([  0., 177.,  90.,  68.,   0.,  56., 130.,  84., 214.,  11.]),\n",
              "  array([  6., 175.,  86.,  62.,   0.,  63., 135.,  88., 204.,  11.]),\n",
              "  array([  0., 182.,  84.,  72.,   0.,  61., 126.,  81., 212.,  12.]),\n",
              "  array([  5., 173.,  90.,  67.,   0.,  61., 141.,  83., 199.,  11.]),\n",
              "  array([  3., 180.,  81.,  68.,   0.,  61., 136.,  82., 207.,  12.]),\n",
              "  array([  1., 176.,  90.,  78.,   0.,  55., 132.,  84., 206.,   8.]),\n",
              "  array([  1., 185.,  79.,  70.,   0.,  62., 137.,  86., 199.,  11.]),\n",
              "  array([  6., 174.,  91.,  72.,   0.,  54., 141.,  83., 196.,  13.]),\n",
              "  array([  4., 170.,  94.,  77.,   0.,  55., 130.,  88., 199.,  13.]),\n",
              "  array([  1., 178.,  87.,  68.,   0.,  62., 127.,  91., 203.,  13.]),\n",
              "  array([  1., 171.,  95.,  73.,   0.,  58., 122.,  84., 218.,   8.]),\n",
              "  array([  1., 177.,  88.,  66.,   0.,  69., 131.,  80., 211.,   7.]),\n",
              "  array([  1., 176.,  88.,  63.,   0.,  66., 135.,  94., 193.,  14.]),\n",
              "  array([  0., 179.,  87.,  77.,   0.,  52., 127.,  87., 211.,  10.]),\n",
              "  array([  0., 183.,  85.,  77.,   0.,  50., 125.,  88., 208.,  14.]),\n",
              "  array([  0., 180.,  87.,  72.,   0.,  62., 137.,  84., 201.,   7.]),\n",
              "  array([  6., 177.,  83.,  72.,   0.,  58., 138.,  82., 206.,   8.]),\n",
              "  array([  0., 186.,  80.,  71.,   0.,  62., 128.,  84., 208.,  11.]),\n",
              "  array([  4., 183.,  82.,  68.,   0.,  57., 140.,  93., 189.,  14.]),\n",
              "  array([  5., 170.,  90.,  72.,   0.,  61., 129.,  85., 204.,  14.]),\n",
              "  array([  4., 173.,  89.,  74.,   0.,  61., 134.,  84., 199.,  12.]),\n",
              "  array([  0., 174.,  92.,  71.,   0.,  67., 133.,  84., 200.,   9.]),\n",
              "  array([  0., 186.,  79.,  73.,   0.,  64., 131.,  93., 195.,   9.]),\n",
              "  array([  0., 188.,  80.,  72.,   0.,  54., 127.,  88., 209.,  12.]),\n",
              "  array([  3., 176.,  89.,  68.,   0.,  65., 121.,  86., 213.,   9.]),\n",
              "  array([  0., 177.,  89.,  76.,   0.,  59., 125.,  93., 204.,   7.]),\n",
              "  array([  3., 179.,  85.,  66.,   0.,  59., 136.,  85., 207.,  10.]),\n",
              "  array([  6., 166.,  95.,  70.,   0.,  66., 133.,  79., 209.,   6.]),\n",
              "  array([  5., 178.,  82.,  76.,   0.,  58., 132.,  85., 204.,  10.]),\n",
              "  array([  5., 178.,  85.,  73.,   0.,  52., 147.,  82., 197.,  11.])],\n",
              " array([1. , 1.8, 2.6, 3.4, 4.2, 5. , 5.8, 6.6, 7.4, 8.2, 9. ]),\n",
              " <a list of 100 Lists of Patches objects>)"
            ]
          },
          "metadata": {
            "tags": []
          },
          "execution_count": 13
        },
        {
          "output_type": "display_data",
          "data": {
            "image/png": "[encoded data removed]",
            "text/plain": [
              "<Figure size 432x288 with 1 Axes>"
            ]
          },
          "metadata": {
            "tags": []
          }
        }
      ]
    },
    {
      "cell_type": "code",
      "metadata": {
        "id": "2BDIRiQ4yMus",
        "colab_type": "code",
        "colab": {}
      },
      "source": [
        "from sklearn.metrics import confusion_matrix\n",
        "\n",
        "PRED = pd.read_csv('https://raw.githubusercontent.com/seg/2016-ml-contest/master/prediction_depths.csv')\n",
        "PRED.set_index([\"Well Name\", \"Depth\"], inplace=True)\n",
        "PRED.head()\n",
        "\n",
        "TRUE = pd.read_csv('https://raw.githubusercontent.com/seg/2016-ml-contest/master/blind_stuart_crawford_core_facies.csv')\n",
        "TRUE.rename(columns={'Depth.ft': 'Depth'}, inplace=True)\n",
        "TRUE.rename(columns={'WellName': 'Well Name'}, inplace=True)\n",
        "TRUE.set_index([\"Well Name\", \"Depth\"], inplace=True)\n",
        "TRUE.head()\n",
        "\n",
        "\n",
        "def get_accuracies(y_preds):\n",
        "    \"\"\"\n",
        "    Get the F1 scores from all the y_preds.\n",
        "    y_blind is a 1D array. y_preds is a 2D array.\n",
        "    \"\"\"\n",
        "    accs = []\n",
        "    for y_pred in y_preds:\n",
        "        PRED['Facies'] = y_pred\n",
        "        all_data = PRED.join(TRUE, how='inner')\n",
        "        y_blind = all_data['LithCode'].values\n",
        "        y_pred = all_data['Facies'].values\n",
        "        y_pred = y_pred[y_blind!=11]\n",
        "        y_blind = y_blind[y_blind!=11]\n",
        "        cv_conf = confusion_matrix(y_blind, y_pred)\n",
        "        #sns.heatmap(cv_conf, annot=True, fmt=\"d\")\n",
        "        accs.append(accuracy(cv_conf))\n",
        "    return np.array(accs)"
      ],
      "execution_count": 0,
      "outputs": []
    },
    {
      "cell_type": "code",
      "metadata": {
        "id": "bwiboVWky_1s",
        "colab_type": "code",
        "colab": {
          "base_uri": "https://localhost:8080/",
          "height": 287
        },
        "outputId": "a7ec410c-59d2-4e35-a391-5787edeb9242"
      },
      "source": [
        "from os import path\n",
        "import operator\n",
        "\n",
        "\n",
        "def accuracy(conf):\n",
        "    total_correct = 0.\n",
        "    nb_classes = conf.shape[0]\n",
        "    for i in np.arange(0,nb_classes):\n",
        "        total_correct += conf[i][i]\n",
        "    acc = total_correct/sum(sum(conf))\n",
        "    return acc\n",
        "\n",
        "scores, medians = {}, {}\n",
        "for f in ['LA_Team_100_realizations.npy']:\n",
        "    team = path.basename(f).split('_')[0]\n",
        "    y_preds = np.load(f)\n",
        "    scores[team] = get_accuracies(y_preds)\n",
        "    medians[team] = np.median(scores[team])\n",
        "    plt.hist(pd.Series(scores[team]), alpha=0.5)\n",
        "\n",
        "for t, m in sorted(medians.items(), key=operator.itemgetter(1), reverse=True):\n",
        "    print(\"{:20s}{:.4f}\".format(t, m))"
      ],
      "execution_count": 19,
      "outputs": [
        {
          "output_type": "stream",
          "text": [
            "LA                  0.5800\n"
          ],
          "name": "stdout"
        },
        {
          "output_type": "display_data",
          "data": {
            "image/png": "[encoded data removed]",
            "text/plain": [
              "<Figure size 432x288 with 1 Axes>"
            ]
          },
          "metadata": {
            "tags": []
          }
        }
      ]
    }
  ]
}